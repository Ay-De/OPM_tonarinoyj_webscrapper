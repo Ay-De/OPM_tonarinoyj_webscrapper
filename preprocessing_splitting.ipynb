{
 "cells": [
  {
   "cell_type": "code",
   "execution_count": null,
   "metadata": {},
   "outputs": [],
   "source": [
    "from collections import Counter\n",
    "import matplotlib.pyplot as plt\n",
    "import numpy as np\n",
    "import os\n",
    "import pandas as pd\n",
    "\n",
    "import cv2\n",
    "from tqdm.notebook import tqdm"
   ]
  },
  {
   "cell_type": "code",
   "execution_count": null,
   "metadata": {},
   "outputs": [],
   "source": [
    "#Location of the downloaded manga chapters\n",
    "source_dir = 'D:\\\\OPM\\\\source\\\\'\n",
    "#Target location of the split manga pages\n",
    "target_dir = 'D:\\\\OPM\\\\target\\\\'"
   ]
  },
  {
   "cell_type": "code",
   "execution_count": null,
   "metadata": {},
   "outputs": [],
   "source": [
    "def find_patch_size(chapter_dir):\n",
    "    \"\"\"\n",
    "    This function tries to find the borders between two patches. This is accomplished by using Probabilistic Hough Lines with an angle or 0 degrees.\n",
    "    Note: The End and the beginning of a patch is often not easy to distinguish. Thereforce, multiple pages of each chapter are evaluated and checked\n",
    "    for horizontal lines. The most frequent line candidates for a patch boundary are being evaluated with the known possible patch dimensions.\n",
    "    In the case that the patch height can not be determined, the user will be asked for input with a sample image.\n",
    "    \"\"\"\n",
    "    horizontals = []\n",
    "    for i in range(0, len(os.listdir(chapter_dir)), 3):\n",
    "        \n",
    "        img = cv2.imread(f'{chapter_dir}{os.sep}{os.listdir(chapter_dir)[i]}', cv2.IMREAD_COLOR)\n",
    "        gray = cv2.cvtColor(img, cv2.COLOR_BGR2GRAY)\n",
    "\n",
    "        blur = cv2.GaussianBlur(gray, (5, 5), 3)\n",
    "\n",
    "        _, thresh = cv2.threshold(blur, 200, 255, cv2.THRESH_BINARY)\n",
    "\n",
    "        dst = cv2.Canny(thresh, 50, 200, apertureSize=5)\n",
    "\n",
    "        lines = cv2.HoughLinesP(dst ,rho = 1,theta = 1*np.pi/180, threshold=100, minLineLength=100, maxLineGap=50)\n",
    "\n",
    "        try:\n",
    "            for line in lines:\n",
    "                x1, y1, x2, y2 = line[0]\n",
    "                angle = np.arctan2(y2 - y1, x2 - x1) * 180. / np.pi\n",
    "                \n",
    "                if int(angle) == 0:\n",
    "                    horizontals.extend([y1, y2])\n",
    "                    \n",
    "        except:\n",
    "            pass\n",
    "\n",
    "    #Calculate the five most frequent horizontal line.\n",
    "    horizontals_mode = Counter(horizontals)\n",
    "    horizontals_mode = sorted([int(y) for (y, _) in horizontals_mode.most_common(6)])\n",
    "\n",
    "    #Check if the most frequent horizontal lines are within a margin of a few pixels of the two known patch heights.\n",
    "    if any([(276 <= divmod(x, 280)[1] <= 284) for x in horizontals_mode]):\n",
    "        return 280\n",
    "    \n",
    "    elif any([(308 <= divmod(x, 312)[1] <= 316) for x in horizontals_mode]):\n",
    "        return 312\n",
    "    \n",
    "    else:\n",
    "        y1 = [280, 280]\n",
    "        y2 = [312, 312]\n",
    "        \n",
    "        fig, ax = plt.subplots(dpi=200)\n",
    "        ax.imshow(img)\n",
    "        ax.axhline(y1[0], color='red', linewidth='1')\n",
    "        ax.axhline(2 * y1[0], color='red', linewidth='1')\n",
    "        ax.axhline(y2[0], color='blue', linewidth='1')\n",
    "        ax.axhline(2 * y2[0], color='blue', linewidth='1')\n",
    "\n",
    "        ax.set_yticks([*ax.get_yticks(), y1[0], y2[0], 2*y1[0], 2*y2[0]], \n",
    "                      labels=[*ax.get_yticklabels(), y1[0], y2[0], f'2*{y1[0]}', f'2*{y2[0]}'])\n",
    "        ax.set_ylim([img.shape[0], 0])\n",
    "        plt.show()\n",
    "        \n",
    "        return int(input('Patch height (280 or 312): '))"
   ]
  },
  {
   "cell_type": "code",
   "execution_count": null,
   "metadata": {},
   "outputs": [],
   "source": [
    "def crop_image(src_dir, trgt_dir, s_height):\n",
    "    \"\"\"\n",
    "    This function will split the image into smaller patches and save the patches into their corresponding chapter folder.\n",
    "    \"\"\"\n",
    "    for subdir, dirs, files in os.walk(src_dir):\n",
    "        for file in files:\n",
    "            if file.endswith('.jpeg'):\n",
    "                image_path = subdir + os.sep + file\n",
    "                _crop_image_helper(f'{image_path}', f'{trgt_dir}{subdir.split(os.sep)[-1]}{os.sep}', f'{file.split(\".\")[0]}', s_height)\n",
    "\n",
    "\n",
    "def _crop_image_helper(img_path, trgt_dir, page_num, s_height):\n",
    "\n",
    "        os.makedirs(trgt_dir, exist_ok=True)\n",
    "        \n",
    "        img_data = cv2.imread(f'{img_path}', cv2.IMREAD_COLOR)\n",
    "        img_height, img_width, img_dim = img_data.shape\n",
    "\n",
    "        count = 0\n",
    "\n",
    "        for y in range(0, img_height, s_height):\n",
    "            for x in range(0, img_width, 200):\n",
    "                segment = img_data[y:y + s_height, x: x + 200]\n",
    "                \n",
    "                if segment.shape[0] == s_height:\n",
    "                    cv2.imwrite(f'{trgt_dir}{page_num}_{count}.jpeg', segment)\n",
    "                    count = count + 1"
   ]
  },
  {
   "cell_type": "code",
   "execution_count": null,
   "metadata": {},
   "outputs": [],
   "source": [
    "for subdir in tqdm(os.listdir(source_dir)):\n",
    "    chapter_dir = os.path.join(source_dir, subdir)\n",
    "    size = find_patch_size(chapter_dir)\n",
    "    if size == 312:\n",
    "        print(f'{subdir}') \n",
    "\n",
    "    crop_image(chapter_dir, target_dir, size)"
   ]
  }
 ],
 "metadata": {
  "kernelspec": {
   "display_name": "Python 3",
   "language": "python",
   "name": "python3"
  },
  "language_info": {
   "codemirror_mode": {
    "name": "ipython",
    "version": 3
   },
   "file_extension": ".py",
   "mimetype": "text/x-python",
   "name": "python",
   "nbconvert_exporter": "python",
   "pygments_lexer": "ipython3",
   "version": "3.10.4"
  },
  "orig_nbformat": 4,
  "vscode": {
   "interpreter": {
    "hash": "abfcd632be5212b21686a13a605da1c7bf57703e3ebceb6fef7e69175c847dd2"
   }
  }
 },
 "nbformat": 4,
 "nbformat_minor": 2
}
